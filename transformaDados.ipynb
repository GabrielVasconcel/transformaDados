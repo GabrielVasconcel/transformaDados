{
  "cells": [
    {
      "cell_type": "markdown",
      "id": "a09e6d54-bf3f-4632-b299-bd49d5c80d5f",
      "metadata": {
        "id": "a09e6d54-bf3f-4632-b299-bd49d5c80d5f"
      },
      "source": [
        "| Column                   | Description                                                                      |\n",
        "|------------------------- |--------------------------------------------------------------------------------- |\n",
        "| `student_id`             | A unique ID for each student.                                                    |\n",
        "| `city`                   | A code for the city the student lives in.                                        |\n",
        "| `city_development_index` | A scaled development index for the city.                                         |\n",
        "| `gender`                 | The student's gender.                                                            |\n",
        "| `relevant_experience`    | An indicator of the student's work relevant experience.                          |\n",
        "| `enrolled_university`    | The type of university course enrolled in (if any).                              |\n",
        "| `education_level`        | The student's education level.                                                   |\n",
        "| `major_discipline`       | The educational discipline of the student.                                       |\n",
        "| `experience`             | The student's total work experience (in years).                                  |\n",
        "| `company_size`           | The number of employees at the student's current employer.                       |\n",
        "| `company_type`           | The type of company employing the student.                                       |\n",
        "| `last_new_job`           | The number of years between the student's current and previous jobs.             |\n",
        "| `training_hours`         | The number of hours of training completed.                                       |\n",
        "| `job_change`             | An indicator of whether the student is looking for a new job (`1`) or not (`0`). |"
      ]
    },
    {
      "cell_type": "code",
      "execution_count": 39,
      "id": "eda9c1b2-4e9a-41ac-8da6-d4c98775f986",
      "metadata": {
        "colab": {
          "base_uri": "https://localhost:8080/",
          "height": 261
        },
        "executionCancelledAt": null,
        "executionTime": 63,
        "id": "eda9c1b2-4e9a-41ac-8da6-d4c98775f986",
        "lastExecutedAt": 1736433214395,
        "lastExecutedByKernel": "81b8c6ed-00b3-43c3-8ae4-e7b295df1d6f",
        "lastScheduledRunId": null,
        "lastSuccessfullyExecutedCode": "# Import necessary libraries\nimport pandas as pd\nimport numpy as np\n# Load the dataset\nds_jobs = pd.read_csv(\"customer_train.csv\")\n\n# View the dataset\nds_jobs.head()",
        "outputId": "0d4a2186-c41f-4eaa-d10a-8906ba923b16",
        "outputsMetadata": {
          "0": {
            "height": 550,
            "tableState": {
              "customFilter": {
                "const": {
                  "type": "boolean",
                  "valid": true,
                  "value": true
                },
                "id": "7112dcb6-da9a-4dd2-94ba-98e342cf6d84",
                "nodeType": "const"
              },
              "quickFilterText": ""
            },
            "type": "dataFrame"
          }
        }
      },
      "outputs": [
        {
          "data": {
            "text/html": [
              "<div>\n",
              "<style scoped>\n",
              "    .dataframe tbody tr th:only-of-type {\n",
              "        vertical-align: middle;\n",
              "    }\n",
              "\n",
              "    .dataframe tbody tr th {\n",
              "        vertical-align: top;\n",
              "    }\n",
              "\n",
              "    .dataframe thead th {\n",
              "        text-align: right;\n",
              "    }\n",
              "</style>\n",
              "<table border=\"1\" class=\"dataframe\">\n",
              "  <thead>\n",
              "    <tr style=\"text-align: right;\">\n",
              "      <th></th>\n",
              "      <th>student_id</th>\n",
              "      <th>city</th>\n",
              "      <th>city_development_index</th>\n",
              "      <th>gender</th>\n",
              "      <th>relevant_experience</th>\n",
              "      <th>enrolled_university</th>\n",
              "      <th>education_level</th>\n",
              "      <th>major_discipline</th>\n",
              "      <th>experience</th>\n",
              "      <th>company_size</th>\n",
              "      <th>company_type</th>\n",
              "      <th>last_new_job</th>\n",
              "      <th>training_hours</th>\n",
              "      <th>job_change</th>\n",
              "    </tr>\n",
              "  </thead>\n",
              "  <tbody>\n",
              "    <tr>\n",
              "      <th>0</th>\n",
              "      <td>8949</td>\n",
              "      <td>city_103</td>\n",
              "      <td>0.920</td>\n",
              "      <td>Male</td>\n",
              "      <td>Has relevant experience</td>\n",
              "      <td>no_enrollment</td>\n",
              "      <td>Graduate</td>\n",
              "      <td>STEM</td>\n",
              "      <td>&gt;20</td>\n",
              "      <td>NaN</td>\n",
              "      <td>NaN</td>\n",
              "      <td>1</td>\n",
              "      <td>36</td>\n",
              "      <td>1.0</td>\n",
              "    </tr>\n",
              "    <tr>\n",
              "      <th>1</th>\n",
              "      <td>29725</td>\n",
              "      <td>city_40</td>\n",
              "      <td>0.776</td>\n",
              "      <td>Male</td>\n",
              "      <td>No relevant experience</td>\n",
              "      <td>no_enrollment</td>\n",
              "      <td>Graduate</td>\n",
              "      <td>STEM</td>\n",
              "      <td>15</td>\n",
              "      <td>50-99</td>\n",
              "      <td>Pvt Ltd</td>\n",
              "      <td>&gt;4</td>\n",
              "      <td>47</td>\n",
              "      <td>0.0</td>\n",
              "    </tr>\n",
              "    <tr>\n",
              "      <th>2</th>\n",
              "      <td>11561</td>\n",
              "      <td>city_21</td>\n",
              "      <td>0.624</td>\n",
              "      <td>NaN</td>\n",
              "      <td>No relevant experience</td>\n",
              "      <td>Full time course</td>\n",
              "      <td>Graduate</td>\n",
              "      <td>STEM</td>\n",
              "      <td>5</td>\n",
              "      <td>NaN</td>\n",
              "      <td>NaN</td>\n",
              "      <td>never</td>\n",
              "      <td>83</td>\n",
              "      <td>0.0</td>\n",
              "    </tr>\n",
              "    <tr>\n",
              "      <th>3</th>\n",
              "      <td>33241</td>\n",
              "      <td>city_115</td>\n",
              "      <td>0.789</td>\n",
              "      <td>NaN</td>\n",
              "      <td>No relevant experience</td>\n",
              "      <td>NaN</td>\n",
              "      <td>Graduate</td>\n",
              "      <td>Business Degree</td>\n",
              "      <td>&lt;1</td>\n",
              "      <td>NaN</td>\n",
              "      <td>Pvt Ltd</td>\n",
              "      <td>never</td>\n",
              "      <td>52</td>\n",
              "      <td>1.0</td>\n",
              "    </tr>\n",
              "    <tr>\n",
              "      <th>4</th>\n",
              "      <td>666</td>\n",
              "      <td>city_162</td>\n",
              "      <td>0.767</td>\n",
              "      <td>Male</td>\n",
              "      <td>Has relevant experience</td>\n",
              "      <td>no_enrollment</td>\n",
              "      <td>Masters</td>\n",
              "      <td>STEM</td>\n",
              "      <td>&gt;20</td>\n",
              "      <td>50-99</td>\n",
              "      <td>Funded Startup</td>\n",
              "      <td>4</td>\n",
              "      <td>8</td>\n",
              "      <td>0.0</td>\n",
              "    </tr>\n",
              "  </tbody>\n",
              "</table>\n",
              "</div>"
            ],
            "text/plain": [
              "   student_id      city  city_development_index gender  \\\n",
              "0        8949  city_103                   0.920   Male   \n",
              "1       29725   city_40                   0.776   Male   \n",
              "2       11561   city_21                   0.624    NaN   \n",
              "3       33241  city_115                   0.789    NaN   \n",
              "4         666  city_162                   0.767   Male   \n",
              "\n",
              "       relevant_experience enrolled_university education_level  \\\n",
              "0  Has relevant experience       no_enrollment        Graduate   \n",
              "1   No relevant experience       no_enrollment        Graduate   \n",
              "2   No relevant experience    Full time course        Graduate   \n",
              "3   No relevant experience                 NaN        Graduate   \n",
              "4  Has relevant experience       no_enrollment         Masters   \n",
              "\n",
              "  major_discipline experience company_size    company_type last_new_job  \\\n",
              "0             STEM        >20          NaN             NaN            1   \n",
              "1             STEM         15        50-99         Pvt Ltd           >4   \n",
              "2             STEM          5          NaN             NaN        never   \n",
              "3  Business Degree         <1          NaN         Pvt Ltd        never   \n",
              "4             STEM        >20        50-99  Funded Startup            4   \n",
              "\n",
              "   training_hours  job_change  \n",
              "0              36         1.0  \n",
              "1              47         0.0  \n",
              "2              83         0.0  \n",
              "3              52         1.0  \n",
              "4               8         0.0  "
            ]
          },
          "execution_count": 39,
          "metadata": {},
          "output_type": "execute_result"
        }
      ],
      "source": [
        "import pandas as pd\n",
        "import numpy as np\n",
        "\n",
        "ds_jobs = pd.read_csv(\"customer_train.csv\")\n",
        "ds_jobs.head()"
      ]
    },
    {
      "cell_type": "markdown",
      "id": "FmmMP6tab0WP",
      "metadata": {
        "id": "FmmMP6tab0WP"
      },
      "source": [
        "## Transformando tipos de dados do dataset\n"
      ]
    },
    {
      "cell_type": "code",
      "execution_count": 40,
      "id": "13757e62-aca2-48f4-b569-a838af11bdd5",
      "metadata": {
        "executionCancelledAt": null,
        "executionTime": 49,
        "id": "13757e62-aca2-48f4-b569-a838af11bdd5",
        "lastExecutedAt": 1736433214444,
        "lastExecutedByKernel": "81b8c6ed-00b3-43c3-8ae4-e7b295df1d6f",
        "lastScheduledRunId": null,
        "lastSuccessfullyExecutedCode": "# Create a copy of ds_jobs for transforming\nds_jobs_transformed = ds_jobs.copy()\n\n# Start coding here. Use as many cells as you like!"
      },
      "outputs": [],
      "source": [
        "ds_jobs_transformed = ds_jobs.copy()"
      ]
    },
    {
      "cell_type": "code",
      "execution_count": 41,
      "id": "91816a83-5159-4bb3-b556-f6d0c10e28a4",
      "metadata": {
        "colab": {
          "base_uri": "https://localhost:8080/"
        },
        "executionCancelledAt": null,
        "executionTime": 52,
        "id": "91816a83-5159-4bb3-b556-f6d0c10e28a4",
        "lastExecutedAt": 1736433214496,
        "lastExecutedByKernel": "81b8c6ed-00b3-43c3-8ae4-e7b295df1d6f",
        "lastScheduledRunId": null,
        "lastSuccessfullyExecutedCode": "ds_jobs.info()",
        "outputId": "367d5894-da95-4932-fb00-64a472c709da",
        "outputsMetadata": {
          "0": {
            "height": 458,
            "type": "stream"
          }
        }
      },
      "outputs": [
        {
          "name": "stdout",
          "output_type": "stream",
          "text": [
            "<class 'pandas.core.frame.DataFrame'>\n",
            "RangeIndex: 19158 entries, 0 to 19157\n",
            "Data columns (total 14 columns):\n",
            " #   Column                  Non-Null Count  Dtype  \n",
            "---  ------                  --------------  -----  \n",
            " 0   student_id              19158 non-null  int64  \n",
            " 1   city                    19158 non-null  object \n",
            " 2   city_development_index  19158 non-null  float64\n",
            " 3   gender                  14650 non-null  object \n",
            " 4   relevant_experience     19158 non-null  object \n",
            " 5   enrolled_university     18772 non-null  object \n",
            " 6   education_level         18698 non-null  object \n",
            " 7   major_discipline        16345 non-null  object \n",
            " 8   experience              19093 non-null  object \n",
            " 9   company_size            13220 non-null  object \n",
            " 10  company_type            13018 non-null  object \n",
            " 11  last_new_job            18735 non-null  object \n",
            " 12  training_hours          19158 non-null  int64  \n",
            " 13  job_change              19158 non-null  float64\n",
            "dtypes: float64(2), int64(2), object(10)\n",
            "memory usage: 2.0+ MB\n"
          ]
        }
      ],
      "source": [
        "ds_jobs.info()"
      ]
    },
    {
      "cell_type": "markdown",
      "id": "7ef1af03-94b8-4f28-a34b-b0dafe6e658a",
      "metadata": {
        "id": "7ef1af03-94b8-4f28-a34b-b0dafe6e658a"
      },
      "source": [
        "Transforma em categorias ordenadas"
      ]
    },
    {
      "cell_type": "code",
      "execution_count": 42,
      "id": "b95c160a-57cd-4966-997b-52da18ea4e6a",
      "metadata": {
        "colab": {
          "base_uri": "https://localhost:8080/"
        },
        "executionCancelledAt": null,
        "executionTime": 52,
        "id": "b95c160a-57cd-4966-997b-52da18ea4e6a",
        "lastExecutedAt": 1736433214548,
        "lastExecutedByKernel": "81b8c6ed-00b3-43c3-8ae4-e7b295df1d6f",
        "lastScheduledRunId": null,
        "lastSuccessfullyExecutedCode": "ds_jobs_transformed[\"enrolled_university\"] = pd.Categorical(ds_jobs_transformed[\"enrolled_university\"], categories = ['no_enrollment', 'Part time course', 'Full time course'], ordered=True)\nds_jobs_transformed[\"enrolled_university\"].cat.categories",
        "outputId": "2e247967-4c26-442a-ba8e-03aab4024e4e"
      },
      "outputs": [
        {
          "data": {
            "text/plain": [
              "Index(['no_enrollment', 'Part time course', 'Full time course'], dtype='object')"
            ]
          },
          "execution_count": 42,
          "metadata": {},
          "output_type": "execute_result"
        }
      ],
      "source": [
        "ds_jobs_transformed[\"enrolled_university\"] = pd.Categorical(ds_jobs_transformed[\"enrolled_university\"], categories = ['no_enrollment', 'Part time course', 'Full time course'], ordered=True)\n",
        "ds_jobs_transformed[\"enrolled_university\"].cat.categories"
      ]
    },
    {
      "cell_type": "code",
      "execution_count": 43,
      "id": "c833b4f8-9d93-4a0b-a403-f3307e33dd07",
      "metadata": {
        "colab": {
          "base_uri": "https://localhost:8080/"
        },
        "executionCancelledAt": null,
        "executionTime": 56,
        "id": "c833b4f8-9d93-4a0b-a403-f3307e33dd07",
        "lastExecutedAt": 1736433214604,
        "lastExecutedByKernel": "81b8c6ed-00b3-43c3-8ae4-e7b295df1d6f",
        "lastScheduledRunId": null,
        "lastSuccessfullyExecutedCode": "ds_jobs_transformed[\"education_level\"] = pd.Categorical(ds_jobs_transformed[\"education_level\"], categories = ['Primary School', 'High School','Graduate','Masters', 'Phd'], ordered=True)\nds_jobs_transformed[\"education_level\"].cat.categories",
        "outputId": "c0be48de-1fdb-485c-9e09-84e7ef4e96c8"
      },
      "outputs": [
        {
          "data": {
            "text/plain": [
              "Index(['Primary School', 'High School', 'Graduate', 'Masters', 'Phd'], dtype='object')"
            ]
          },
          "execution_count": 43,
          "metadata": {},
          "output_type": "execute_result"
        }
      ],
      "source": [
        "ds_jobs_transformed[\"education_level\"] = pd.Categorical(ds_jobs_transformed[\"education_level\"], categories = ['Primary School', 'High School','Graduate','Masters', 'Phd'], ordered=True)\n",
        "ds_jobs_transformed[\"education_level\"].cat.categories"
      ]
    },
    {
      "cell_type": "code",
      "execution_count": 44,
      "id": "a876dd60-4367-4a1b-8ca7-d4a48d2ad60d",
      "metadata": {
        "colab": {
          "base_uri": "https://localhost:8080/"
        },
        "executionCancelledAt": null,
        "executionTime": 56,
        "id": "a876dd60-4367-4a1b-8ca7-d4a48d2ad60d",
        "lastExecutedAt": 1736433214660,
        "lastExecutedByKernel": "81b8c6ed-00b3-43c3-8ae4-e7b295df1d6f",
        "lastScheduledRunId": null,
        "lastSuccessfullyExecutedCode": "ds_jobs_transformed[\"experience\"] = pd.Categorical(ds_jobs_transformed[\"experience\"], categories = ['<1','1', '2','3','4','5','6','7', '8', '9','10', '11', '12', '13', '14', '15', '16', '17', '18', '19','20','>20'], ordered=True)\nds_jobs_transformed[\"experience\"].cat.categories",
        "outputId": "5d0f3494-ab64-4cf8-dca2-12eedcd12756"
      },
      "outputs": [
        {
          "data": {
            "text/plain": [
              "Index(['<1', '1', '2', '3', '4', '5', '6', '7', '8', '9', '10', '11', '12',\n",
              "       '13', '14', '15', '16', '17', '18', '19', '20', '>20'],\n",
              "      dtype='object')"
            ]
          },
          "execution_count": 44,
          "metadata": {},
          "output_type": "execute_result"
        }
      ],
      "source": [
        "ds_jobs_transformed[\"experience\"] = pd.Categorical(ds_jobs_transformed[\"experience\"], categories = ['<1','1', '2','3','4','5','6','7', '8', '9','10', '11', '12', '13', '14', '15', '16', '17', '18', '19','20','>20'], ordered=True)\n",
        "ds_jobs_transformed[\"experience\"].cat.categories"
      ]
    },
    {
      "cell_type": "code",
      "execution_count": 45,
      "id": "865db99a-3554-4ed4-9504-1859a08de9aa",
      "metadata": {
        "colab": {
          "base_uri": "https://localhost:8080/"
        },
        "executionCancelledAt": null,
        "executionTime": 56,
        "id": "865db99a-3554-4ed4-9504-1859a08de9aa",
        "lastExecutedAt": 1736433214716,
        "lastExecutedByKernel": "81b8c6ed-00b3-43c3-8ae4-e7b295df1d6f",
        "lastScheduledRunId": null,
        "lastSuccessfullyExecutedCode": "ds_jobs_transformed[\"company_size\"] = pd.Categorical(ds_jobs_transformed[\"company_size\"], categories = ['<10', '10-49', '50-99','100-499', '500-999', '1000-4999', '5000-9999', '10000+'], ordered=True)\nds_jobs_transformed[\"company_size\"].cat.categories",
        "outputId": "79db93de-80f7-4f3e-8c25-25c2f349f0f4"
      },
      "outputs": [
        {
          "data": {
            "text/plain": [
              "Index(['<10', '10-49', '50-99', '100-499', '500-999', '1000-4999', '5000-9999',\n",
              "       '10000+'],\n",
              "      dtype='object')"
            ]
          },
          "execution_count": 45,
          "metadata": {},
          "output_type": "execute_result"
        }
      ],
      "source": [
        "ds_jobs_transformed[\"company_size\"] = pd.Categorical(ds_jobs_transformed[\"company_size\"], categories = ['<10', '10-49', '50-99','100-499', '500-999', '1000-4999', '5000-9999', '10000+'], ordered=True)\n",
        "ds_jobs_transformed[\"company_size\"].cat.categories"
      ]
    },
    {
      "cell_type": "code",
      "execution_count": 46,
      "id": "12233f0f-7a38-455c-af44-71b069b509d3",
      "metadata": {
        "colab": {
          "base_uri": "https://localhost:8080/"
        },
        "executionCancelledAt": null,
        "executionTime": 53,
        "id": "12233f0f-7a38-455c-af44-71b069b509d3",
        "lastExecutedAt": 1736433214769,
        "lastExecutedByKernel": "81b8c6ed-00b3-43c3-8ae4-e7b295df1d6f",
        "lastScheduledRunId": null,
        "lastSuccessfullyExecutedCode": "ds_jobs_transformed[\"last_new_job\"] = pd.Categorical(ds_jobs_transformed[\"last_new_job\"], categories = ['never', '1', '2', '3', '4', '>4'], ordered=True)\nds_jobs_transformed[\"last_new_job\"].cat.categories",
        "outputId": "9a7fd2cd-3b69-4502-a1e4-b709d80d46c0"
      },
      "outputs": [
        {
          "data": {
            "text/plain": [
              "Index(['never', '1', '2', '3', '4', '>4'], dtype='object')"
            ]
          },
          "execution_count": 46,
          "metadata": {},
          "output_type": "execute_result"
        }
      ],
      "source": [
        "ds_jobs_transformed[\"last_new_job\"] = pd.Categorical(ds_jobs_transformed[\"last_new_job\"], categories = ['never', '1', '2', '3', '4', '>4'], ordered=True)\n",
        "ds_jobs_transformed[\"last_new_job\"].cat.categories"
      ]
    },
    {
      "cell_type": "markdown",
      "id": "b3913fa5-4332-404a-9f22-ed4946f40538",
      "metadata": {
        "id": "b3913fa5-4332-404a-9f22-ed4946f40538"
      },
      "source": [
        "Transforma em categorias sem ordem"
      ]
    },
    {
      "cell_type": "code",
      "execution_count": 47,
      "id": "6a9f72b9-cf93-4ddf-b880-38d506c7ca80",
      "metadata": {
        "colab": {
          "base_uri": "https://localhost:8080/"
        },
        "executionCancelledAt": null,
        "executionTime": 55,
        "id": "6a9f72b9-cf93-4ddf-b880-38d506c7ca80",
        "lastExecutedAt": 1736433214824,
        "lastExecutedByKernel": "81b8c6ed-00b3-43c3-8ae4-e7b295df1d6f",
        "lastScheduledRunId": null,
        "lastSuccessfullyExecutedCode": "for column in ds_jobs_transformed.columns:\n    if ds_jobs_transformed[column].dtype == object:\n        print(ds_jobs_transformed[column].describe())",
        "outputId": "9524fe30-9008-4e08-ddb2-8351fe21df48",
        "outputsMetadata": {
          "0": {
            "height": 542,
            "type": "stream"
          }
        }
      },
      "outputs": [
        {
          "name": "stdout",
          "output_type": "stream",
          "text": [
            "count        19158\n",
            "unique         123\n",
            "top       city_103\n",
            "freq          4355\n",
            "Name: city, dtype: object\n",
            "count     14650\n",
            "unique        3\n",
            "top        Male\n",
            "freq      13221\n",
            "Name: gender, dtype: object\n",
            "count                       19158\n",
            "unique                          2\n",
            "top       Has relevant experience\n",
            "freq                        13792\n",
            "Name: relevant_experience, dtype: object\n",
            "count     16345\n",
            "unique        6\n",
            "top        STEM\n",
            "freq      14492\n",
            "Name: major_discipline, dtype: object\n",
            "count       13018\n",
            "unique          6\n",
            "top       Pvt Ltd\n",
            "freq         9817\n",
            "Name: company_type, dtype: object\n"
          ]
        }
      ],
      "source": [
        "# Verifica as colunas a transformar\n",
        "for column in ds_jobs_transformed.columns:\n",
        "    if ds_jobs_transformed[column].dtype == object:\n",
        "        print(ds_jobs_transformed[column].describe())"
      ]
    },
    {
      "cell_type": "code",
      "execution_count": 48,
      "id": "17f5e7c0-a2e0-474a-83e4-3a92fba7f250",
      "metadata": {
        "executionCancelledAt": null,
        "executionTime": 52,
        "id": "17f5e7c0-a2e0-474a-83e4-3a92fba7f250",
        "lastExecutedAt": 1736433214876,
        "lastExecutedByKernel": "81b8c6ed-00b3-43c3-8ae4-e7b295df1d6f",
        "lastScheduledRunId": null,
        "lastSuccessfullyExecutedCode": "for column in ds_jobs_transformed.columns:     \n    if ds_jobs_transformed[column].dtype == object:\n        ds_jobs_transformed[column] = ds_jobs_transformed[column].astype(\"category\")"
      },
      "outputs": [],
      "source": [
        "# Transforma as colunas em categorias sem ordem\n",
        "for column in ds_jobs_transformed.columns:\n",
        "    if ds_jobs_transformed[column].dtype == object:\n",
        "        ds_jobs_transformed[column] = ds_jobs_transformed[column].astype(\"category\")"
      ]
    },
    {
      "cell_type": "markdown",
      "id": "53bd78b1-9fcc-474f-8548-d4e1d4654788",
      "metadata": {
        "id": "53bd78b1-9fcc-474f-8548-d4e1d4654788"
      },
      "source": [
        "Transforma em Int32"
      ]
    },
    {
      "cell_type": "code",
      "execution_count": 49,
      "id": "5cc0c257-798b-49ea-aafd-24b7a726d274",
      "metadata": {
        "colab": {
          "base_uri": "https://localhost:8080/"
        },
        "executionCancelledAt": null,
        "executionTime": 51,
        "id": "5cc0c257-798b-49ea-aafd-24b7a726d274",
        "lastExecutedAt": 1736433214928,
        "lastExecutedByKernel": "81b8c6ed-00b3-43c3-8ae4-e7b295df1d6f",
        "lastScheduledRunId": null,
        "lastSuccessfullyExecutedCode": "ds_jobs_transformed[[\"student_id\", \"training_hours\"]] = ds_jobs_transformed[[\"student_id\", \"training_hours\"]].astype(np.int32)\nds_jobs_transformed[[\"student_id\", \"training_hours\"]].info()",
        "outputId": "16630a3a-1ac7-4e77-e3c6-42e9b6a22b19",
        "outputsMetadata": {
          "0": {
            "height": 206,
            "type": "stream"
          }
        }
      },
      "outputs": [
        {
          "name": "stdout",
          "output_type": "stream",
          "text": [
            "<class 'pandas.core.frame.DataFrame'>\n",
            "RangeIndex: 19158 entries, 0 to 19157\n",
            "Data columns (total 2 columns):\n",
            " #   Column          Non-Null Count  Dtype\n",
            "---  ------          --------------  -----\n",
            " 0   student_id      19158 non-null  int32\n",
            " 1   training_hours  19158 non-null  int32\n",
            "dtypes: int32(2)\n",
            "memory usage: 149.8 KB\n"
          ]
        }
      ],
      "source": [
        "ds_jobs_transformed[[\"student_id\", \"training_hours\"]] = ds_jobs_transformed[[\"student_id\", \"training_hours\"]].astype(np.int32)\n",
        "ds_jobs_transformed[[\"student_id\", \"training_hours\"]].info()"
      ]
    },
    {
      "cell_type": "markdown",
      "id": "0e255e88-7341-458d-9f0a-64294e84ae94",
      "metadata": {
        "id": "0e255e88-7341-458d-9f0a-64294e84ae94"
      },
      "source": [
        "Transforma em booleano"
      ]
    },
    {
      "cell_type": "code",
      "execution_count": 50,
      "id": "5d252981-1733-473d-94e9-1e8221931d76",
      "metadata": {
        "colab": {
          "base_uri": "https://localhost:8080/"
        },
        "executionCancelledAt": null,
        "executionTime": 48,
        "id": "5d252981-1733-473d-94e9-1e8221931d76",
        "lastExecutedAt": 1736433214976,
        "lastExecutedByKernel": "81b8c6ed-00b3-43c3-8ae4-e7b295df1d6f",
        "lastScheduledRunId": null,
        "lastSuccessfullyExecutedCode": "ds_jobs_transformed[\"job_change\"] =ds_jobs_transformed[\"job_change\"].astype(bool)\nds_jobs_transformed[\"job_change\"].info()",
        "outputId": "a7415ac0-0d02-4e46-a0ad-0f96bc4edbda",
        "outputsMetadata": {
          "0": {
            "height": 185,
            "type": "stream"
          }
        }
      },
      "outputs": [
        {
          "name": "stdout",
          "output_type": "stream",
          "text": [
            "<class 'pandas.core.series.Series'>\n",
            "RangeIndex: 19158 entries, 0 to 19157\n",
            "Series name: job_change\n",
            "Non-Null Count  Dtype\n",
            "--------------  -----\n",
            "19158 non-null  bool \n",
            "dtypes: bool(1)\n",
            "memory usage: 18.8 KB\n"
          ]
        }
      ],
      "source": [
        "# Tranformação simples\n",
        "ds_jobs_transformed[\"job_change\"] =ds_jobs_transformed[\"job_change\"].astype(bool)\n",
        "ds_jobs_transformed[\"job_change\"].info()"
      ]
    },
    {
      "cell_type": "code",
      "execution_count": 51,
      "id": "ab3e709b-d1f3-47a3-b8c1-10e0ae4935b0",
      "metadata": {
        "colab": {
          "base_uri": "https://localhost:8080/",
          "height": 302
        },
        "executionCancelledAt": null,
        "executionTime": 52,
        "id": "ab3e709b-d1f3-47a3-b8c1-10e0ae4935b0",
        "lastExecutedAt": 1736433215028,
        "lastExecutedByKernel": "81b8c6ed-00b3-43c3-8ae4-e7b295df1d6f",
        "lastScheduledRunId": null,
        "lastSuccessfullyExecutedCode": "mapeamento = {\"No relevant experience\": False, \"Has relevant experience\": True}\nds_jobs_transformed[\"relevant_experience\"] = ds_jobs_transformed[\"relevant_experience\"].replace(mapeamento)\nds_jobs_transformed[\"relevant_experience\"] = ds_jobs_transformed[\"relevant_experience\"].astype(bool)\nds_jobs_transformed[\"relevant_experience\"].describe()",
        "outputId": "5e211245-92ce-46e3-f5c3-d4a2a38f18e4",
        "outputsMetadata": {
          "0": {
            "height": 50,
            "tableState": {
              "customFilter": {
                "const": {
                  "type": "boolean",
                  "valid": true,
                  "value": true
                },
                "id": "7112dcb6-da9a-4dd2-94ba-98e342cf6d84",
                "nodeType": "const"
              },
              "quickFilterText": ""
            },
            "type": "dataFrame"
          }
        }
      },
      "outputs": [
        {
          "data": {
            "text/plain": [
              "count     19158\n",
              "unique        2\n",
              "top        True\n",
              "freq      13792\n",
              "Name: relevant_experience, dtype: object"
            ]
          },
          "execution_count": 51,
          "metadata": {},
          "output_type": "execute_result"
        }
      ],
      "source": [
        "# Transformação de string para booleano\n",
        "mapeamento = {\"No relevant experience\": False, \"Has relevant experience\": True}\n",
        "ds_jobs_transformed[\"relevant_experience\"] = ds_jobs_transformed[\"relevant_experience\"].replace(mapeamento)\n",
        "ds_jobs_transformed[\"relevant_experience\"] = ds_jobs_transformed[\"relevant_experience\"].astype(bool)\n",
        "ds_jobs_transformed[\"relevant_experience\"].describe()"
      ]
    },
    {
      "cell_type": "markdown",
      "id": "f38d6d66-0aee-45f0-9f1a-f7daf272d283",
      "metadata": {
        "id": "f38d6d66-0aee-45f0-9f1a-f7daf272d283"
      },
      "source": [
        "Transforma em Float16"
      ]
    },
    {
      "cell_type": "code",
      "execution_count": 52,
      "id": "52748efc-22e1-451d-af84-5d56323459c0",
      "metadata": {
        "colab": {
          "base_uri": "https://localhost:8080/"
        },
        "executionCancelledAt": null,
        "executionTime": 52,
        "id": "52748efc-22e1-451d-af84-5d56323459c0",
        "lastExecutedAt": 1736433215080,
        "lastExecutedByKernel": "81b8c6ed-00b3-43c3-8ae4-e7b295df1d6f",
        "lastScheduledRunId": null,
        "lastSuccessfullyExecutedCode": "ds_jobs_transformed[\"city_development_index\"] = ds_jobs_transformed[\"city_development_index\"].astype(np.float16)\nds_jobs_transformed[\"city_development_index\"].info()",
        "outputId": "f77913b6-e1b3-4955-9480-0fac747cc967",
        "outputsMetadata": {
          "0": {
            "height": 185,
            "type": "stream"
          }
        }
      },
      "outputs": [
        {
          "name": "stdout",
          "output_type": "stream",
          "text": [
            "<class 'pandas.core.series.Series'>\n",
            "RangeIndex: 19158 entries, 0 to 19157\n",
            "Series name: city_development_index\n",
            "Non-Null Count  Dtype  \n",
            "--------------  -----  \n",
            "19158 non-null  float16\n",
            "dtypes: float16(1)\n",
            "memory usage: 37.5 KB\n"
          ]
        }
      ],
      "source": [
        "ds_jobs_transformed[\"city_development_index\"] = ds_jobs_transformed[\"city_development_index\"].astype(np.float16)\n",
        "ds_jobs_transformed[\"city_development_index\"].info()"
      ]
    },
    {
      "cell_type": "code",
      "execution_count": 53,
      "id": "5674f5c3",
      "metadata": {},
      "outputs": [
        {
          "name": "stdout",
          "output_type": "stream",
          "text": [
            "<class 'pandas.core.frame.DataFrame'>\n",
            "RangeIndex: 19158 entries, 0 to 19157\n",
            "Data columns (total 14 columns):\n",
            " #   Column                  Non-Null Count  Dtype   \n",
            "---  ------                  --------------  -----   \n",
            " 0   student_id              19158 non-null  int32   \n",
            " 1   city                    19158 non-null  category\n",
            " 2   city_development_index  19158 non-null  float16 \n",
            " 3   gender                  14650 non-null  category\n",
            " 4   relevant_experience     19158 non-null  bool    \n",
            " 5   enrolled_university     18772 non-null  category\n",
            " 6   education_level         18698 non-null  category\n",
            " 7   major_discipline        16345 non-null  category\n",
            " 8   experience              19093 non-null  category\n",
            " 9   company_size            13220 non-null  category\n",
            " 10  company_type            13018 non-null  category\n",
            " 11  last_new_job            18735 non-null  category\n",
            " 12  training_hours          19158 non-null  int32   \n",
            " 13  job_change              19158 non-null  bool    \n",
            "dtypes: bool(2), category(9), float16(1), int32(2)\n",
            "memory usage: 400.2 KB\n"
          ]
        }
      ],
      "source": [
        "ds_jobs_transformed.info()"
      ]
    },
    {
      "cell_type": "markdown",
      "id": "ab9d14b0",
      "metadata": {},
      "source": [
        "Atingido uma redução de uso de memória de 2.0+MB para 400.2KB"
      ]
    },
    {
      "cell_type": "markdown",
      "id": "z3Kmt0oxbsk_",
      "metadata": {
        "id": "z3Kmt0oxbsk_"
      },
      "source": [
        "## Filtrando o dataset\n"
      ]
    },
    {
      "cell_type": "markdown",
      "id": "78696a99-4f09-4ef6-af46-9be498ab5ff2",
      "metadata": {
        "id": "78696a99-4f09-4ef6-af46-9be498ab5ff2"
      },
      "source": [
        "Aplicando filtros: Estudantes 10+ anos de experiência e Empresas 1000+ funcionários"
      ]
    },
    {
      "cell_type": "code",
      "execution_count": 54,
      "id": "018cb0e0-162f-4eb6-a8ed-a13a83f8ed24",
      "metadata": {
        "colab": {
          "base_uri": "https://localhost:8080/",
          "height": 1000
        },
        "executionCancelledAt": null,
        "executionTime": null,
        "id": "018cb0e0-162f-4eb6-a8ed-a13a83f8ed24",
        "lastExecutedAt": null,
        "lastExecutedByKernel": null,
        "lastScheduledRunId": null,
        "lastSuccessfullyExecutedCode": null,
        "outputId": "e5e3016d-4bf7-4e95-e88a-e40e2a83323e",
        "outputsMetadata": {
          "0": {
            "height": 550,
            "tableState": {
              "customFilter": {
                "const": {
                  "type": "boolean",
                  "valid": true,
                  "value": true
                },
                "id": "7112dcb6-da9a-4dd2-94ba-98e342cf6d84",
                "nodeType": "const"
              },
              "quickFilterText": ""
            },
            "type": "dataFrame"
          }
        }
      },
      "outputs": [
        {
          "data": {
            "text/plain": [
              "company_type   experience\n",
              "Pvt Ltd        >20           692\n",
              "               10            200\n",
              "               15            145\n",
              "               11            127\n",
              "               14            120\n",
              "Public Sector  >20           104\n",
              "Pvt Ltd        16            101\n",
              "               12             87\n",
              "               13             82\n",
              "               17             78\n",
              "               19             73\n",
              "               18             61\n",
              "               20             41\n",
              "NGO            >20            39\n",
              "Public Sector  10             25\n",
              "               14             16\n",
              "               13             15\n",
              "               16             14\n",
              "               12             13\n",
              "               11             11\n",
              "Other          >20            10\n",
              "Public Sector  15              9\n",
              "NGO            16              8\n",
              "               10              8\n",
              "Public Sector  17              7\n",
              "               19              7\n",
              "NGO            14              6\n",
              "               15              6\n",
              "               13              5\n",
              "Public Sector  20              5\n",
              "NGO            17              4\n",
              "               12              3\n",
              "               20              2\n",
              "               18              2\n",
              "               11              2\n",
              "Other          15              2\n",
              "NGO            19              2\n",
              "Other          18              2\n",
              "               10              2\n",
              "               11              2\n",
              "Public Sector  18              2\n",
              "Other          16              2\n",
              "               20              1\n",
              "               17              1\n",
              "Name: count, dtype: int64"
            ]
          },
          "execution_count": 54,
          "metadata": {},
          "output_type": "execute_result"
        }
      ],
      "source": [
        "ds_jobs_transformed = ds_jobs_transformed.loc[(ds_jobs_transformed[\"experience\"]>='10') & (ds_jobs_transformed[\"company_size\"]>= '1000-4999')]\n",
        "ds_jobs_transformed[[\"company_type\", \"experience\"]].value_counts()"
      ]
    },
    {
      "cell_type": "code",
      "execution_count": 55,
      "id": "91bcf51f-0668-47f1-b3d1-d059027bb18b",
      "metadata": {
        "colab": {
          "base_uri": "https://localhost:8080/"
        },
        "executionCancelledAt": null,
        "executionTime": 49,
        "id": "91bcf51f-0668-47f1-b3d1-d059027bb18b",
        "lastExecutedAt": 1736433215188,
        "lastExecutedByKernel": "81b8c6ed-00b3-43c3-8ae4-e7b295df1d6f",
        "lastScheduledRunId": null,
        "lastSuccessfullyExecutedCode": "ds_jobs_transformed.shape",
        "outputId": "db07c188-8763-4657-a0c2-7f68c709c3d5"
      },
      "outputs": [
        {
          "data": {
            "text/plain": [
              "(2201, 14)"
            ]
          },
          "execution_count": 55,
          "metadata": {},
          "output_type": "execute_result"
        }
      ],
      "source": [
        "ds_jobs_transformed.shape"
      ]
    },
    {
      "cell_type": "code",
      "execution_count": 56,
      "id": "fcee3a7c-7e69-49fc-851e-7fc0b4ddbae9",
      "metadata": {
        "colab": {
          "base_uri": "https://localhost:8080/"
        },
        "executionCancelledAt": null,
        "executionTime": 52,
        "id": "fcee3a7c-7e69-49fc-851e-7fc0b4ddbae9",
        "lastExecutedAt": 1736433215240,
        "lastExecutedByKernel": "81b8c6ed-00b3-43c3-8ae4-e7b295df1d6f",
        "lastScheduledRunId": null,
        "lastSuccessfullyExecutedCode": "ds_jobs_transformed.info()",
        "outputId": "156b9352-4702-47ba-b132-0dc03f75a33b",
        "outputsMetadata": {
          "0": {
            "height": 458,
            "type": "stream"
          }
        }
      },
      "outputs": [
        {
          "name": "stdout",
          "output_type": "stream",
          "text": [
            "<class 'pandas.core.frame.DataFrame'>\n",
            "Index: 2201 entries, 9 to 19143\n",
            "Data columns (total 14 columns):\n",
            " #   Column                  Non-Null Count  Dtype   \n",
            "---  ------                  --------------  -----   \n",
            " 0   student_id              2201 non-null   int32   \n",
            " 1   city                    2201 non-null   category\n",
            " 2   city_development_index  2201 non-null   float16 \n",
            " 3   gender                  1821 non-null   category\n",
            " 4   relevant_experience     2201 non-null   bool    \n",
            " 5   enrolled_university     2185 non-null   category\n",
            " 6   education_level         2184 non-null   category\n",
            " 7   major_discipline        2097 non-null   category\n",
            " 8   experience              2201 non-null   category\n",
            " 9   company_size            2201 non-null   category\n",
            " 10  company_type            2144 non-null   category\n",
            " 11  last_new_job            2184 non-null   category\n",
            " 12  training_hours          2201 non-null   int32   \n",
            " 13  job_change              2201 non-null   bool    \n",
            "dtypes: bool(2), category(9), float16(1), int32(2)\n",
            "memory usage: 69.5 KB\n"
          ]
        }
      ],
      "source": [
        "ds_jobs_transformed.info()"
      ]
    },
    {
      "cell_type": "code",
      "execution_count": 57,
      "id": "01a26726-def8-42b0-8536-29e0f7ff46e2",
      "metadata": {
        "colab": {
          "base_uri": "https://localhost:8080/",
          "height": 443
        },
        "executionCancelledAt": null,
        "executionTime": 73,
        "id": "01a26726-def8-42b0-8536-29e0f7ff46e2",
        "lastExecutedAt": 1736433215313,
        "lastExecutedByKernel": "81b8c6ed-00b3-43c3-8ae4-e7b295df1d6f",
        "lastScheduledRunId": null,
        "lastSuccessfullyExecutedCode": "ds_jobs_transformed",
        "outputId": "ec227b87-f370-4178-9df9-2b915c7d4cde",
        "outputsMetadata": {
          "0": {
            "height": 550,
            "tableState": {
              "customFilter": {
                "const": {
                  "type": "boolean",
                  "valid": true,
                  "value": true
                },
                "id": "7112dcb6-da9a-4dd2-94ba-98e342cf6d84",
                "nodeType": "const"
              },
              "quickFilterText": "",
              "sort": {
                "sortModel": [
                  {
                    "colId": "experience",
                    "sort": "desc"
                  }
                ]
              }
            },
            "type": "dataFrame"
          }
        }
      },
      "outputs": [
        {
          "data": {
            "text/html": [
              "<div>\n",
              "<style scoped>\n",
              "    .dataframe tbody tr th:only-of-type {\n",
              "        vertical-align: middle;\n",
              "    }\n",
              "\n",
              "    .dataframe tbody tr th {\n",
              "        vertical-align: top;\n",
              "    }\n",
              "\n",
              "    .dataframe thead th {\n",
              "        text-align: right;\n",
              "    }\n",
              "</style>\n",
              "<table border=\"1\" class=\"dataframe\">\n",
              "  <thead>\n",
              "    <tr style=\"text-align: right;\">\n",
              "      <th></th>\n",
              "      <th>student_id</th>\n",
              "      <th>city</th>\n",
              "      <th>city_development_index</th>\n",
              "      <th>gender</th>\n",
              "      <th>relevant_experience</th>\n",
              "      <th>enrolled_university</th>\n",
              "      <th>education_level</th>\n",
              "      <th>major_discipline</th>\n",
              "      <th>experience</th>\n",
              "      <th>company_size</th>\n",
              "      <th>company_type</th>\n",
              "      <th>last_new_job</th>\n",
              "      <th>training_hours</th>\n",
              "      <th>job_change</th>\n",
              "    </tr>\n",
              "  </thead>\n",
              "  <tbody>\n",
              "    <tr>\n",
              "      <th>9</th>\n",
              "      <td>699</td>\n",
              "      <td>city_103</td>\n",
              "      <td>0.919922</td>\n",
              "      <td>NaN</td>\n",
              "      <td>True</td>\n",
              "      <td>no_enrollment</td>\n",
              "      <td>Graduate</td>\n",
              "      <td>STEM</td>\n",
              "      <td>17</td>\n",
              "      <td>10000+</td>\n",
              "      <td>Pvt Ltd</td>\n",
              "      <td>&gt;4</td>\n",
              "      <td>123</td>\n",
              "      <td>False</td>\n",
              "    </tr>\n",
              "    <tr>\n",
              "      <th>12</th>\n",
              "      <td>25619</td>\n",
              "      <td>city_61</td>\n",
              "      <td>0.913086</td>\n",
              "      <td>Male</td>\n",
              "      <td>True</td>\n",
              "      <td>no_enrollment</td>\n",
              "      <td>Graduate</td>\n",
              "      <td>STEM</td>\n",
              "      <td>&gt;20</td>\n",
              "      <td>1000-4999</td>\n",
              "      <td>Pvt Ltd</td>\n",
              "      <td>3</td>\n",
              "      <td>23</td>\n",
              "      <td>False</td>\n",
              "    </tr>\n",
              "    <tr>\n",
              "      <th>31</th>\n",
              "      <td>22293</td>\n",
              "      <td>city_103</td>\n",
              "      <td>0.919922</td>\n",
              "      <td>Male</td>\n",
              "      <td>True</td>\n",
              "      <td>Part time course</td>\n",
              "      <td>Graduate</td>\n",
              "      <td>STEM</td>\n",
              "      <td>19</td>\n",
              "      <td>5000-9999</td>\n",
              "      <td>Pvt Ltd</td>\n",
              "      <td>&gt;4</td>\n",
              "      <td>141</td>\n",
              "      <td>False</td>\n",
              "    </tr>\n",
              "    <tr>\n",
              "      <th>34</th>\n",
              "      <td>26494</td>\n",
              "      <td>city_16</td>\n",
              "      <td>0.910156</td>\n",
              "      <td>Male</td>\n",
              "      <td>True</td>\n",
              "      <td>no_enrollment</td>\n",
              "      <td>Graduate</td>\n",
              "      <td>Business Degree</td>\n",
              "      <td>12</td>\n",
              "      <td>5000-9999</td>\n",
              "      <td>Pvt Ltd</td>\n",
              "      <td>3</td>\n",
              "      <td>145</td>\n",
              "      <td>False</td>\n",
              "    </tr>\n",
              "    <tr>\n",
              "      <th>40</th>\n",
              "      <td>2547</td>\n",
              "      <td>city_114</td>\n",
              "      <td>0.925781</td>\n",
              "      <td>Female</td>\n",
              "      <td>True</td>\n",
              "      <td>Full time course</td>\n",
              "      <td>Masters</td>\n",
              "      <td>STEM</td>\n",
              "      <td>16</td>\n",
              "      <td>1000-4999</td>\n",
              "      <td>Public Sector</td>\n",
              "      <td>2</td>\n",
              "      <td>14</td>\n",
              "      <td>False</td>\n",
              "    </tr>\n",
              "    <tr>\n",
              "      <th>...</th>\n",
              "      <td>...</td>\n",
              "      <td>...</td>\n",
              "      <td>...</td>\n",
              "      <td>...</td>\n",
              "      <td>...</td>\n",
              "      <td>...</td>\n",
              "      <td>...</td>\n",
              "      <td>...</td>\n",
              "      <td>...</td>\n",
              "      <td>...</td>\n",
              "      <td>...</td>\n",
              "      <td>...</td>\n",
              "      <td>...</td>\n",
              "      <td>...</td>\n",
              "    </tr>\n",
              "    <tr>\n",
              "      <th>19097</th>\n",
              "      <td>25447</td>\n",
              "      <td>city_103</td>\n",
              "      <td>0.919922</td>\n",
              "      <td>Male</td>\n",
              "      <td>True</td>\n",
              "      <td>no_enrollment</td>\n",
              "      <td>Graduate</td>\n",
              "      <td>STEM</td>\n",
              "      <td>&gt;20</td>\n",
              "      <td>1000-4999</td>\n",
              "      <td>Pvt Ltd</td>\n",
              "      <td>&gt;4</td>\n",
              "      <td>57</td>\n",
              "      <td>False</td>\n",
              "    </tr>\n",
              "    <tr>\n",
              "      <th>19101</th>\n",
              "      <td>6803</td>\n",
              "      <td>city_16</td>\n",
              "      <td>0.910156</td>\n",
              "      <td>Male</td>\n",
              "      <td>True</td>\n",
              "      <td>no_enrollment</td>\n",
              "      <td>High School</td>\n",
              "      <td>NaN</td>\n",
              "      <td>10</td>\n",
              "      <td>10000+</td>\n",
              "      <td>Pvt Ltd</td>\n",
              "      <td>1</td>\n",
              "      <td>89</td>\n",
              "      <td>False</td>\n",
              "    </tr>\n",
              "    <tr>\n",
              "      <th>19103</th>\n",
              "      <td>32932</td>\n",
              "      <td>city_10</td>\n",
              "      <td>0.895020</td>\n",
              "      <td>Male</td>\n",
              "      <td>True</td>\n",
              "      <td>Part time course</td>\n",
              "      <td>Masters</td>\n",
              "      <td>Other</td>\n",
              "      <td>&gt;20</td>\n",
              "      <td>1000-4999</td>\n",
              "      <td>Pvt Ltd</td>\n",
              "      <td>&gt;4</td>\n",
              "      <td>18</td>\n",
              "      <td>False</td>\n",
              "    </tr>\n",
              "    <tr>\n",
              "      <th>19128</th>\n",
              "      <td>3365</td>\n",
              "      <td>city_16</td>\n",
              "      <td>0.910156</td>\n",
              "      <td>NaN</td>\n",
              "      <td>True</td>\n",
              "      <td>no_enrollment</td>\n",
              "      <td>Graduate</td>\n",
              "      <td>Humanities</td>\n",
              "      <td>&gt;20</td>\n",
              "      <td>1000-4999</td>\n",
              "      <td>Pvt Ltd</td>\n",
              "      <td>&gt;4</td>\n",
              "      <td>23</td>\n",
              "      <td>False</td>\n",
              "    </tr>\n",
              "    <tr>\n",
              "      <th>19143</th>\n",
              "      <td>33047</td>\n",
              "      <td>city_103</td>\n",
              "      <td>0.919922</td>\n",
              "      <td>Male</td>\n",
              "      <td>True</td>\n",
              "      <td>no_enrollment</td>\n",
              "      <td>Graduate</td>\n",
              "      <td>STEM</td>\n",
              "      <td>&gt;20</td>\n",
              "      <td>10000+</td>\n",
              "      <td>Pvt Ltd</td>\n",
              "      <td>&gt;4</td>\n",
              "      <td>18</td>\n",
              "      <td>False</td>\n",
              "    </tr>\n",
              "  </tbody>\n",
              "</table>\n",
              "<p>2201 rows × 14 columns</p>\n",
              "</div>"
            ],
            "text/plain": [
              "       student_id      city  city_development_index  gender  \\\n",
              "9             699  city_103                0.919922     NaN   \n",
              "12          25619   city_61                0.913086    Male   \n",
              "31          22293  city_103                0.919922    Male   \n",
              "34          26494   city_16                0.910156    Male   \n",
              "40           2547  city_114                0.925781  Female   \n",
              "...           ...       ...                     ...     ...   \n",
              "19097       25447  city_103                0.919922    Male   \n",
              "19101        6803   city_16                0.910156    Male   \n",
              "19103       32932   city_10                0.895020    Male   \n",
              "19128        3365   city_16                0.910156     NaN   \n",
              "19143       33047  city_103                0.919922    Male   \n",
              "\n",
              "       relevant_experience enrolled_university education_level  \\\n",
              "9                     True       no_enrollment        Graduate   \n",
              "12                    True       no_enrollment        Graduate   \n",
              "31                    True    Part time course        Graduate   \n",
              "34                    True       no_enrollment        Graduate   \n",
              "40                    True    Full time course         Masters   \n",
              "...                    ...                 ...             ...   \n",
              "19097                 True       no_enrollment        Graduate   \n",
              "19101                 True       no_enrollment     High School   \n",
              "19103                 True    Part time course         Masters   \n",
              "19128                 True       no_enrollment        Graduate   \n",
              "19143                 True       no_enrollment        Graduate   \n",
              "\n",
              "      major_discipline experience company_size   company_type last_new_job  \\\n",
              "9                 STEM         17       10000+        Pvt Ltd           >4   \n",
              "12                STEM        >20    1000-4999        Pvt Ltd            3   \n",
              "31                STEM         19    5000-9999        Pvt Ltd           >4   \n",
              "34     Business Degree         12    5000-9999        Pvt Ltd            3   \n",
              "40                STEM         16    1000-4999  Public Sector            2   \n",
              "...                ...        ...          ...            ...          ...   \n",
              "19097             STEM        >20    1000-4999        Pvt Ltd           >4   \n",
              "19101              NaN         10       10000+        Pvt Ltd            1   \n",
              "19103            Other        >20    1000-4999        Pvt Ltd           >4   \n",
              "19128       Humanities        >20    1000-4999        Pvt Ltd           >4   \n",
              "19143             STEM        >20       10000+        Pvt Ltd           >4   \n",
              "\n",
              "       training_hours  job_change  \n",
              "9                 123       False  \n",
              "12                 23       False  \n",
              "31                141       False  \n",
              "34                145       False  \n",
              "40                 14       False  \n",
              "...               ...         ...  \n",
              "19097              57       False  \n",
              "19101              89       False  \n",
              "19103              18       False  \n",
              "19128              23       False  \n",
              "19143              18       False  \n",
              "\n",
              "[2201 rows x 14 columns]"
            ]
          },
          "execution_count": 57,
          "metadata": {},
          "output_type": "execute_result"
        }
      ],
      "source": [
        "ds_jobs_transformed"
      ]
    }
  ],
  "metadata": {
    "colab": {
      "provenance": []
    },
    "editor": "DataLab",
    "kernelspec": {
      "display_name": "base",
      "language": "python",
      "name": "python3"
    },
    "language_info": {
      "codemirror_mode": {
        "name": "ipython",
        "version": 3
      },
      "file_extension": ".py",
      "mimetype": "text/x-python",
      "name": "python",
      "nbconvert_exporter": "python",
      "pygments_lexer": "ipython3",
      "version": "3.11.7"
    }
  },
  "nbformat": 4,
  "nbformat_minor": 5
}
